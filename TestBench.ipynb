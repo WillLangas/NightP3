{
 "cells": [
  {
   "cell_type": "code",
   "execution_count": 1,
   "metadata": {},
   "outputs": [
    {
     "name": "stdout",
     "output_type": "stream",
     "text": [
      "pygame 2.0.1 (SDL 2.0.14, Python 3.9.0)\n",
      "Hello from the pygame community. https://www.pygame.org/contribute.html\n"
     ]
    }
   ],
   "source": [
    "# Music player in python\n",
    "\n",
    "from pygame import mixer\n"
   ]
  },
  {
   "cell_type": "code",
   "execution_count": null,
   "metadata": {},
   "outputs": [],
   "source": [
    "mixer.init()\n",
    "# --------------------------Path of your music\n",
    "mixer.music.load(\"PYAR-HUA-IKRAAR-HUA.mp3\")\n",
    "mixer.music.set_volume(0.5)\n",
    "mixer.music.play()\n",
    "\n",
    "while True:\n",
    "    print(\"Press 'p' to pause\")\n",
    "    print(\"Press 'r' to resume\")\n",
    "    print(\"Press 'v' set volume\")\n",
    "    print(\"Press 'e' to exit\")\n",
    "\n",
    "    ch = input(\"['p','r','v','e']>>>\")\n",
    "\n",
    "    if ch == \"p\":\n",
    "        mixer.music.pause()\n",
    "    elif ch == \"r\":\n",
    "        mixer.music.unpause()\n",
    "    elif ch == \"v\":\n",
    "        v = float(input(\"Enter volume(0 to 1): \"))\n",
    "        mixer.music.set_volume(v)\n",
    "    elif ch == \"e\":\n",
    "        mixer.music.stop()\n",
    "        break\n",
    "\n",
    "# Follow @code_snail"
   ]
  },
  {
   "cell_type": "code",
   "execution_count": 3,
   "metadata": {},
   "outputs": [],
   "source": [
    "from pygame import mixer\n",
    "import os\n",
    "\n",
    "mixer.init()"
   ]
  },
  {
   "cell_type": "code",
   "execution_count": 5,
   "metadata": {},
   "outputs": [],
   "source": [
    "mixer.music.load(\"FleetFoxesTest.mp3\")\n",
    "mixer.music.set_volume(0.5)\n",
    "mixer.music.play()\n",
    "mixer.music.stop()"
   ]
  },
  {
   "cell_type": "code",
   "execution_count": null,
   "metadata": {},
   "outputs": [],
   "source": []
  }
 ],
 "metadata": {
  "kernelspec": {
   "display_name": "Python 3 (ipykernel)",
   "language": "python",
   "name": "python3"
  },
  "language_info": {
   "codemirror_mode": {
    "name": "ipython",
    "version": 3
   },
   "file_extension": ".py",
   "mimetype": "text/x-python",
   "name": "python",
   "nbconvert_exporter": "python",
   "pygments_lexer": "ipython3",
   "version": "3.9.0"
  }
 },
 "nbformat": 4,
 "nbformat_minor": 4
}
